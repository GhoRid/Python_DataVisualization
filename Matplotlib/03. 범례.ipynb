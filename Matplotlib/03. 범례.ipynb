{
 "cells": [
  {
   "cell_type": "markdown",
   "id": "c21cb6c3",
   "metadata": {},
   "source": [
    "## 3. 범례 (legend)"
   ]
  },
  {
   "cell_type": "code",
   "execution_count": null,
   "id": "5c837493",
   "metadata": {},
   "outputs": [],
   "source": [
    "import matplotlib.pyplot as plt\n",
    "import matplotlib\n",
    "matplotlib.rcParams['font.family'] = 'Malgun Gothic'  # Window\n",
    "matplotlib.rcParams['font.size'] = 15 #글자 크기\n",
    "matplotlib.rcParams['axes.unicode_minus'] = False  # 한글 폰트를 사용할 때 마이너스 글자가 깨지는 걸 방지"
   ]
  },
  {
   "cell_type": "code",
   "execution_count": null,
   "id": "af2bdeba",
   "metadata": {},
   "outputs": [],
   "source": [
    "x = [1, 2, 3]\n",
    "y = [2, 4, 8]"
   ]
  },
  {
   "cell_type": "code",
   "execution_count": null,
   "id": "00049092",
   "metadata": {},
   "outputs": [],
   "source": [
    "plt.plot(x, y, label = '무슨 데이터')\n",
    "plt.legend()"
   ]
  },
  {
   "cell_type": "code",
   "execution_count": null,
   "id": "92e3f12c",
   "metadata": {},
   "outputs": [],
   "source": [
    "plt.plot(x, y, label = '무슨 데이터')\n",
    "plt.legend(loc='upper right')        ## 오른쪽 위에 위치"
   ]
  },
  {
   "cell_type": "code",
   "execution_count": 14,
   "id": "b46b5670",
   "metadata": {},
   "outputs": [
    {
     "data": {
      "text/plain": [
       "<matplotlib.legend.Legend at 0x264e0dd5af0>"
      ]
     },
     "execution_count": 14,
     "metadata": {},
     "output_type": "execute_result"
    },
    {
     "data": {
      "image/png": "[encoded data removed]",
      "text/plain": [
       "<Figure size 432x288 with 1 Axes>"
      ]
     },
     "metadata": {
      "needs_background": "light"
     },
     "output_type": "display_data"
    }
   ],
   "source": [
    "plt.plot(x, y, label = '무슨 데이터')\n",
    "plt.legend(loc='lower right')   # 선의 위치. 여러 옵션은 marplotlib legend 옵션 검색  "
   ]
  },
  {
   "cell_type": "code",
   "execution_count": null,
   "id": "b5517777",
   "metadata": {},
   "outputs": [],
   "source": [
    "plt.plot(x, y, label = '범례')\n",
    "plt.legend(loc=(0.5, 0.5))    # 왼쪽 아래 점의 위치 X축 Y축 값( 0~1 사이/ 비율값 )"
   ]
  }
 ],
 "metadata": {
  "kernelspec": {
   "display_name": "Python 3 (ipykernel)",
   "language": "python",
   "name": "python3"
  },
  "language_info": {
   "codemirror_mode": {
    "name": "ipython",
    "version": 3
   },
   "file_extension": ".py",
   "mimetype": "text/x-python",
   "name": "python",
   "nbconvert_exporter": "python",
   "pygments_lexer": "ipython3",
   "version": "3.9.13"
  }
 },
 "nbformat": 4,
 "nbformat_minor": 5
}
