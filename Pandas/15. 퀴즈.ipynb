{
 "cells": [
  {
   "cell_type": "markdown",
   "id": "28300c3c",
   "metadata": {},
   "source": [
    "# 15. Pandas 퀴즈"
   ]
  },
  {
   "cell_type": "markdown",
   "id": "77d2bc13",
   "metadata": {},
   "source": [
    "다음은 대한민국 영화 중에서 관객 수가 가장 많은 상위 8개의 데이터입니다.  \n",
    "주어진 코드를 이용하여 코드를 풀어보세요."
   ]
  },
  {
   "cell_type": "code",
   "execution_count": null,
   "id": "955e404f",
   "metadata": {},
   "outputs": [],
   "source": [
    "import pandas as pd\n",
    "data = {\n",
    "    '영화' : ['명량', '극한직업', '신과함께-죄와 벌', '국제시장', '괴물', '도둑들', '7번방의 선물', '암살'],\n",
    "    '개봉 연도' : [2014, 2019, 2017, 2014, 2006, 2012, 2013, 2015],\n",
    "    '관객 수' : [1761, 1626, 1441, 1426, 1301, 1298, 1281, 1270], # (단위 : 만 명)\n",
    "    '평점' : [8.88, 9.20, 8.73, 9.16, 8.62, 7.64, 8.83, 9.10]\n",
    "}\n",
    "df = pd.DataFrame(data)\n",
    "df\n"
   ]
  },
  {
   "cell_type": "markdown",
   "id": "e32b5315",
   "metadata": {},
   "source": [
    "## 1)전체 데이터 중 '영화' 정보만 출력하세요"
   ]
  },
  {
   "cell_type": "code",
   "execution_count": null,
   "id": "116de841",
   "metadata": {},
   "outputs": [],
   "source": [
    "df['영화']"
   ]
  },
  {
   "cell_type": "markdown",
   "id": "c701895d",
   "metadata": {},
   "source": [
    "## 2) 전체 데이터 중 '영화', '평점' 정보를 출력하세요"
   ]
  },
  {
   "cell_type": "code",
   "execution_count": null,
   "id": "7da89d08",
   "metadata": {},
   "outputs": [],
   "source": [
    "df[['영화', '평점']]"
   ]
  },
  {
   "cell_type": "markdown",
   "id": "7167569c",
   "metadata": {},
   "source": [
    "## 3) 2015년 이후에 개봉한 영화 데이터 중에서 '영화', '개봉 연도' 정보를 출력하세요"
   ]
  },
  {
   "cell_type": "code",
   "execution_count": null,
   "id": "a5c7e739",
   "metadata": {},
   "outputs": [],
   "source": [
    "filt = df['개봉 연도'] >= 2015\n",
    "df.loc[filt, ['영화', '개봉 연도']]   # 앞 줄이 행 선택, 뒷 줄이 열 선택"
   ]
  },
  {
   "cell_type": "markdown",
   "id": "97a84fb6",
   "metadata": {},
   "source": [
    "## 4) 주어진 계산 식을 참고하여 '추천 점수' Column을 추가하세요  \n",
    "\n",
    "- 추천 점수 = (관객 수 * 평점)// 100  \n",
    "  \n",
    "예) 첫 번째 영화인 '명량'의 경우  \n",
    "추천 점수 = (관객수 1761 * 평점 8.88)//100 = 156"
   ]
  },
  {
   "cell_type": "code",
   "execution_count": null,
   "id": "fec5bdaf",
   "metadata": {},
   "outputs": [],
   "source": [
    "df['추천 점수'] = (df['관객 수'] * df['평점'])// 100     # '/' 한 개는 소수점 4자리, '//' 는 올림으로 정수 표현\n",
    "df"
   ]
  },
  {
   "cell_type": "markdown",
   "id": "d58849f7",
   "metadata": {},
   "source": [
    "## 5) 전체 데이터를 '개봉 연도' 기준 내림차순으로 출력하세요"
   ]
  },
  {
   "cell_type": "code",
   "execution_count": null,
   "id": "3f0471c9",
   "metadata": {},
   "outputs": [],
   "source": [
    "df.sort_values('개봉 연도', ascending = False)"
   ]
  }
 ],
 "metadata": {
  "kernelspec": {
   "display_name": "Python 3 (ipykernel)",
   "language": "python",
   "name": "python3"
  },
  "language_info": {
   "codemirror_mode": {
    "name": "ipython",
    "version": 3
   },
   "file_extension": ".py",
   "mimetype": "text/x-python",
   "name": "python",
   "nbconvert_exporter": "python",
   "pygments_lexer": "ipython3",
   "version": "3.9.13"
  }
 },
 "nbformat": 4,
 "nbformat_minor": 5
}
